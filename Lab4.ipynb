{
 "cells": [
  {
   "cell_type": "markdown",
   "id": "b24b0b79",
   "metadata": {},
   "source": [
    "## Lab 4"
   ]
  },
  {
   "cell_type": "markdown",
   "id": "fb6df8f6",
   "metadata": {},
   "source": [
    "### Import libs and connect to database"
   ]
  },
  {
   "cell_type": "code",
   "execution_count": 1,
   "id": "9a336df7",
   "metadata": {},
   "outputs": [
    {
     "name": "stderr",
     "output_type": "stream",
     "text": [
      "/home/ec2-user/anaconda3/envs/python3/lib/python3.6/site-packages/psycopg2/__init__.py:144: UserWarning: The psycopg2 wheel package will be renamed from release 2.8; in order to keep installing from binary please use \"pip install psycopg2-binary\" instead. For details see: <http://initd.org/psycopg/docs/install.html#binary-install-from-pypi>.\n",
      "  \"\"\")\n"
     ]
    }
   ],
   "source": [
    "import pandas\n",
    "import configparser\n",
    "import psycopg2"
   ]
  },
  {
   "cell_type": "markdown",
   "id": "0d4225c0",
   "metadata": {},
   "source": [
    "### Connect to Database"
   ]
  },
  {
   "cell_type": "code",
   "execution_count": 2,
   "id": "03d6a396",
   "metadata": {},
   "outputs": [],
   "source": [
    "config = configparser.ConfigParser()\n",
    "config.read('config.ini')\n",
    "\n",
    "host=config['myaws']['host']\n",
    "db=config['myaws']['db']\n",
    "user=config['myaws']['user']\n",
    "pwd = config['myaws']['pwd']\n",
    "\n",
    "conn = psycopg2.connect(  host=host,\n",
    "                       user=user,\n",
    "                       password = pwd,\n",
    "                       dbname=db)"
   ]
  },
  {
   "cell_type": "code",
   "execution_count": 3,
   "id": "9db6f024",
   "metadata": {},
   "outputs": [],
   "source": [
    "cur=conn.cursor()"
   ]
  },
  {
   "cell_type": "markdown",
   "id": "1b762c30",
   "metadata": {},
   "source": [
    "## Q1"
   ]
  },
  {
   "cell_type": "code",
   "execution_count": 7,
   "id": "c844cc82",
   "metadata": {},
   "outputs": [],
   "source": [
    "sql_Q1 = \"\"\"\n",
    "        select * from gp11.student \n",
    "        \"\"\""
   ]
  },
  {
   "cell_type": "code",
   "execution_count": 8,
   "id": "b16f4eac",
   "metadata": {},
   "outputs": [
    {
     "data": {
      "text/html": [
       "<div>\n",
       "<style scoped>\n",
       "    .dataframe tbody tr th:only-of-type {\n",
       "        vertical-align: middle;\n",
       "    }\n",
       "\n",
       "    .dataframe tbody tr th {\n",
       "        vertical-align: top;\n",
       "    }\n",
       "\n",
       "    .dataframe thead th {\n",
       "        text-align: right;\n",
       "    }\n",
       "</style>\n",
       "<table border=\"1\" class=\"dataframe\">\n",
       "  <thead>\n",
       "    <tr style=\"text-align: right;\">\n",
       "      <th></th>\n",
       "      <th>s_email</th>\n",
       "      <th>s_name</th>\n",
       "      <th>major</th>\n",
       "    </tr>\n",
       "  </thead>\n",
       "  <tbody>\n",
       "    <tr>\n",
       "      <th>0</th>\n",
       "      <td>lrhaight02@yahoo.com</td>\n",
       "      <td>logan</td>\n",
       "      <td>IA</td>\n",
       "    </tr>\n",
       "    <tr>\n",
       "      <th>1</th>\n",
       "      <td>s2@jmu.edu</td>\n",
       "      <td>t2</td>\n",
       "      <td>SOCI</td>\n",
       "    </tr>\n",
       "    <tr>\n",
       "      <th>2</th>\n",
       "      <td>s3@jmu.edu</td>\n",
       "      <td>t3</td>\n",
       "      <td>BUS</td>\n",
       "    </tr>\n",
       "    <tr>\n",
       "      <th>3</th>\n",
       "      <td>s4@jmu.edu</td>\n",
       "      <td>t4</td>\n",
       "      <td>KIN</td>\n",
       "    </tr>\n",
       "    <tr>\n",
       "      <th>4</th>\n",
       "      <td>s5@jmu.edu</td>\n",
       "      <td>None</td>\n",
       "      <td>None</td>\n",
       "    </tr>\n",
       "    <tr>\n",
       "      <th>5</th>\n",
       "      <td>s6@jmu.edu</td>\n",
       "      <td>None</td>\n",
       "      <td>None</td>\n",
       "    </tr>\n",
       "    <tr>\n",
       "      <th>6</th>\n",
       "      <td>s7@jmu.edu</td>\n",
       "      <td>None</td>\n",
       "      <td>None</td>\n",
       "    </tr>\n",
       "    <tr>\n",
       "      <th>7</th>\n",
       "      <td>s8@jmu.edu</td>\n",
       "      <td>None</td>\n",
       "      <td>None</td>\n",
       "    </tr>\n",
       "    <tr>\n",
       "      <th>8</th>\n",
       "      <td>s9@jmu.edu</td>\n",
       "      <td>None</td>\n",
       "      <td>None</td>\n",
       "    </tr>\n",
       "    <tr>\n",
       "      <th>9</th>\n",
       "      <td>s10@jmu.edu</td>\n",
       "      <td>None</td>\n",
       "      <td>None</td>\n",
       "    </tr>\n",
       "  </tbody>\n",
       "</table>\n",
       "</div>"
      ],
      "text/plain": [
       "                s_email s_name major\n",
       "0  lrhaight02@yahoo.com  logan    IA\n",
       "1            s2@jmu.edu     t2  SOCI\n",
       "2            s3@jmu.edu     t3   BUS\n",
       "3            s4@jmu.edu     t4   KIN\n",
       "4            s5@jmu.edu   None  None\n",
       "5            s6@jmu.edu   None  None\n",
       "6            s7@jmu.edu   None  None\n",
       "7            s8@jmu.edu   None  None\n",
       "8            s9@jmu.edu   None  None\n",
       "9           s10@jmu.edu   None  None"
      ]
     },
     "execution_count": 8,
     "metadata": {},
     "output_type": "execute_result"
    }
   ],
   "source": [
    "df=pandas.read_sql_query(sql_Q1,conn)\n",
    "df[:]"
   ]
  },
  {
   "cell_type": "markdown",
   "id": "ace104a9",
   "metadata": {},
   "source": [
    "## Q2"
   ]
  },
  {
   "cell_type": "code",
   "execution_count": 5,
   "id": "ac483c5d",
   "metadata": {},
   "outputs": [],
   "source": [
    "sql_Q2 = \"\"\"\n",
    "        select gp11.professor.p_name,\n",
    "        gp11.course.c_name\n",
    "from gp11.professor\n",
    "inner join gp11.course\n",
    "on gp11.professor.p_email = gp11.course.p_email\n",
    "        \"\"\""
   ]
  },
  {
   "cell_type": "code",
   "execution_count": 9,
   "id": "5fd76241",
   "metadata": {},
   "outputs": [
    {
     "data": {
      "text/html": [
       "<div>\n",
       "<style scoped>\n",
       "    .dataframe tbody tr th:only-of-type {\n",
       "        vertical-align: middle;\n",
       "    }\n",
       "\n",
       "    .dataframe tbody tr th {\n",
       "        vertical-align: top;\n",
       "    }\n",
       "\n",
       "    .dataframe thead th {\n",
       "        text-align: right;\n",
       "    }\n",
       "</style>\n",
       "<table border=\"1\" class=\"dataframe\">\n",
       "  <thead>\n",
       "    <tr style=\"text-align: right;\">\n",
       "      <th></th>\n",
       "      <th>p_name</th>\n",
       "      <th>c_name</th>\n",
       "    </tr>\n",
       "  </thead>\n",
       "  <tbody>\n",
       "    <tr>\n",
       "      <th>0</th>\n",
       "      <td>wei</td>\n",
       "      <td>IA</td>\n",
       "    </tr>\n",
       "    <tr>\n",
       "      <th>1</th>\n",
       "      <td>t2</td>\n",
       "      <td>t2</td>\n",
       "    </tr>\n",
       "    <tr>\n",
       "      <th>2</th>\n",
       "      <td>t3</td>\n",
       "      <td>t3</td>\n",
       "    </tr>\n",
       "    <tr>\n",
       "      <th>3</th>\n",
       "      <td>p5</td>\n",
       "      <td>t6</td>\n",
       "    </tr>\n",
       "    <tr>\n",
       "      <th>4</th>\n",
       "      <td>p6</td>\n",
       "      <td>t7</td>\n",
       "    </tr>\n",
       "    <tr>\n",
       "      <th>5</th>\n",
       "      <td>p7</td>\n",
       "      <td>t8</td>\n",
       "    </tr>\n",
       "    <tr>\n",
       "      <th>6</th>\n",
       "      <td>p8</td>\n",
       "      <td>t9</td>\n",
       "    </tr>\n",
       "    <tr>\n",
       "      <th>7</th>\n",
       "      <td>p9</td>\n",
       "      <td>t10</td>\n",
       "    </tr>\n",
       "    <tr>\n",
       "      <th>8</th>\n",
       "      <td>Hendrickson</td>\n",
       "      <td>Counterfactual Reasoning</td>\n",
       "    </tr>\n",
       "    <tr>\n",
       "      <th>9</th>\n",
       "      <td>Hendrickson</td>\n",
       "      <td>t4</td>\n",
       "    </tr>\n",
       "    <tr>\n",
       "      <th>10</th>\n",
       "      <td>Hendrickson</td>\n",
       "      <td>t5</td>\n",
       "    </tr>\n",
       "  </tbody>\n",
       "</table>\n",
       "</div>"
      ],
      "text/plain": [
       "         p_name                    c_name\n",
       "0           wei                        IA\n",
       "1            t2                        t2\n",
       "2            t3                        t3\n",
       "3            p5                        t6\n",
       "4            p6                        t7\n",
       "5            p7                        t8\n",
       "6            p8                        t9\n",
       "7            p9                       t10\n",
       "8   Hendrickson  Counterfactual Reasoning\n",
       "9   Hendrickson                        t4\n",
       "10  Hendrickson                        t5"
      ]
     },
     "execution_count": 9,
     "metadata": {},
     "output_type": "execute_result"
    }
   ],
   "source": [
    "df = pandas.read_sql_query(sql_Q2, conn)\n",
    "df[:]"
   ]
  },
  {
   "cell_type": "markdown",
   "id": "2e908401",
   "metadata": {},
   "source": [
    "## Q3 "
   ]
  },
  {
   "cell_type": "code",
   "execution_count": 10,
   "id": "2d09b4cd",
   "metadata": {},
   "outputs": [],
   "source": [
    "sql_Q3 = \"\"\"\n",
    "        select c_number, \n",
    "        count(c_number) as enrolled\n",
    "        from gp11.enroll_list\n",
    "        group by c_number\n",
    "        order by enrolled desc\n",
    "        \"\"\""
   ]
  },
  {
   "cell_type": "code",
   "execution_count": 12,
   "id": "382cd591",
   "metadata": {},
   "outputs": [
    {
     "data": {
      "text/plain": [
       "<AxesSubplot:xlabel='c_number'>"
      ]
     },
     "execution_count": 12,
     "metadata": {},
     "output_type": "execute_result"
    },
    {
     "data": {
      "image/png": "[encoded data removed]",
      "text/plain": [
       "<Figure size 432x288 with 1 Axes>"
      ]
     },
     "metadata": {
      "needs_background": "light"
     },
     "output_type": "display_data"
    }
   ],
   "source": [
    "df = pandas.read_sql_query(sql_Q3, conn)\n",
    "df.plot.bar(y='enrolled',x='c_number')"
   ]
  },
  {
   "cell_type": "markdown",
   "id": "627f453e",
   "metadata": {},
   "source": [
    "## Q4"
   ]
  },
  {
   "cell_type": "code",
   "execution_count": 17,
   "id": "9d654a04",
   "metadata": {},
   "outputs": [],
   "source": [
    "sql_Q4 = \"\"\"\n",
    "        select gp11.professor.p_name,\n",
    "        count (gp11.course.c_name) as teaching_number\n",
    "        from gp11.professor\n",
    "        inner join gp11.course\n",
    "        on gp11.professor.p_email = gp11.course.p_email\n",
    "        group by professor.p_name\n",
    "        order by teaching_number desc\n",
    "        \"\"\""
   ]
  },
  {
   "cell_type": "code",
   "execution_count": 18,
   "id": "debcb081",
   "metadata": {},
   "outputs": [
    {
     "data": {
      "text/plain": [
       "<AxesSubplot:xlabel='p_name'>"
      ]
     },
     "execution_count": 18,
     "metadata": {},
     "output_type": "execute_result"
    },
    {
     "data": {
      "image/png": "[encoded data removed]",
      "text/plain": [
       "<Figure size 432x288 with 1 Axes>"
      ]
     },
     "metadata": {
      "needs_background": "light"
     },
     "output_type": "display_data"
    }
   ],
   "source": [
    "df = pandas.read_sql_query(sql_Q4,conn)\n",
    "df.plot.bar(y='teaching_number',x='p_name')"
   ]
  },
  {
   "cell_type": "markdown",
   "id": "6f257667",
   "metadata": {},
   "source": [
    "## Q5"
   ]
  },
  {
   "cell_type": "code",
   "execution_count": 10,
   "id": "4df5a37c",
   "metadata": {},
   "outputs": [],
   "source": [
    "sql_Q5_professor = \"\"\"\n",
    "                   insert into gp11.professor(p_email,p_name,p_office)\n",
    "                   values('{}','{}','{}')\n",
    "                \"\"\".format ('marrinsp@jmu.edu','Marrin','Engeo2104')"
   ]
  },
  {
   "cell_type": "code",
   "execution_count": 11,
   "id": "75eaebd1",
   "metadata": {},
   "outputs": [
    {
     "ename": "InternalError",
     "evalue": "current transaction is aborted, commands ignored until end of transaction block\n",
     "output_type": "error",
     "traceback": [
      "\u001b[0;31m---------------------------------------------------------------------------\u001b[0m",
      "\u001b[0;31mInternalError\u001b[0m                             Traceback (most recent call last)",
      "\u001b[0;32m<ipython-input-11-5229923485bd>\u001b[0m in \u001b[0;36m<module>\u001b[0;34m\u001b[0m\n\u001b[0;32m----> 1\u001b[0;31m \u001b[0mcur\u001b[0m\u001b[0;34m.\u001b[0m\u001b[0mexecute\u001b[0m\u001b[0;34m(\u001b[0m\u001b[0msql_Q5_professor\u001b[0m\u001b[0;34m)\u001b[0m\u001b[0;34m\u001b[0m\u001b[0;34m\u001b[0m\u001b[0m\n\u001b[0m",
      "\u001b[0;31mInternalError\u001b[0m: current transaction is aborted, commands ignored until end of transaction block\n"
     ]
    }
   ],
   "source": [
    "cur.execute(sql_Q5_professor)"
   ]
  },
  {
   "cell_type": "code",
   "execution_count": 12,
   "id": "ab88d4d4",
   "metadata": {},
   "outputs": [],
   "source": [
    "conn.rollback()"
   ]
  },
  {
   "cell_type": "code",
   "execution_count": 13,
   "id": "1d9fd4f9",
   "metadata": {},
   "outputs": [],
   "source": [
    "conn.commit()"
   ]
  },
  {
   "cell_type": "code",
   "execution_count": 15,
   "id": "97292a25",
   "metadata": {},
   "outputs": [
    {
     "data": {
      "text/html": [
       "<div>\n",
       "<style scoped>\n",
       "    .dataframe tbody tr th:only-of-type {\n",
       "        vertical-align: middle;\n",
       "    }\n",
       "\n",
       "    .dataframe tbody tr th {\n",
       "        vertical-align: top;\n",
       "    }\n",
       "\n",
       "    .dataframe thead th {\n",
       "        text-align: right;\n",
       "    }\n",
       "</style>\n",
       "<table border=\"1\" class=\"dataframe\">\n",
       "  <thead>\n",
       "    <tr style=\"text-align: right;\">\n",
       "      <th></th>\n",
       "      <th>p_email</th>\n",
       "      <th>p_name</th>\n",
       "      <th>p_office</th>\n",
       "    </tr>\n",
       "  </thead>\n",
       "  <tbody>\n",
       "    <tr>\n",
       "      <th>0</th>\n",
       "      <td>weixx@dukes.jmu.edu</td>\n",
       "      <td>wei</td>\n",
       "      <td>ISAT112</td>\n",
       "    </tr>\n",
       "    <tr>\n",
       "      <th>1</th>\n",
       "      <td>t2@jmu.edu</td>\n",
       "      <td>t2</td>\n",
       "      <td>t2</td>\n",
       "    </tr>\n",
       "    <tr>\n",
       "      <th>2</th>\n",
       "      <td>t3@jmu.edu</td>\n",
       "      <td>t3</td>\n",
       "      <td>t3</td>\n",
       "    </tr>\n",
       "    <tr>\n",
       "      <th>3</th>\n",
       "      <td>t5@jmu.edu</td>\n",
       "      <td>p5</td>\n",
       "      <td>t5</td>\n",
       "    </tr>\n",
       "    <tr>\n",
       "      <th>4</th>\n",
       "      <td>t6@jmu.edu</td>\n",
       "      <td>p6</td>\n",
       "      <td>t6</td>\n",
       "    </tr>\n",
       "    <tr>\n",
       "      <th>5</th>\n",
       "      <td>t7@jmu.edu</td>\n",
       "      <td>p7</td>\n",
       "      <td>t7</td>\n",
       "    </tr>\n",
       "    <tr>\n",
       "      <th>6</th>\n",
       "      <td>t8@jmu.edu</td>\n",
       "      <td>p8</td>\n",
       "      <td>t8</td>\n",
       "    </tr>\n",
       "    <tr>\n",
       "      <th>7</th>\n",
       "      <td>t9@jmu.edu</td>\n",
       "      <td>p9</td>\n",
       "      <td>t9</td>\n",
       "    </tr>\n",
       "    <tr>\n",
       "      <th>8</th>\n",
       "      <td>Hendrickson@jmu.edu</td>\n",
       "      <td>Hendrickson</td>\n",
       "      <td>IA1204</td>\n",
       "    </tr>\n",
       "    <tr>\n",
       "      <th>9</th>\n",
       "      <td>marrinsp@jmu.edu</td>\n",
       "      <td>Marrin</td>\n",
       "      <td>Engeo2104</td>\n",
       "    </tr>\n",
       "  </tbody>\n",
       "</table>\n",
       "</div>"
      ],
      "text/plain": [
       "               p_email       p_name   p_office\n",
       "0  weixx@dukes.jmu.edu          wei    ISAT112\n",
       "1           t2@jmu.edu           t2         t2\n",
       "2           t3@jmu.edu           t3         t3\n",
       "3           t5@jmu.edu           p5         t5\n",
       "4           t6@jmu.edu           p6         t6\n",
       "5           t7@jmu.edu           p7         t7\n",
       "6           t8@jmu.edu           p8         t8\n",
       "7           t9@jmu.edu           p9         t9\n",
       "8  Hendrickson@jmu.edu  Hendrickson     IA1204\n",
       "9     marrinsp@jmu.edu       Marrin  Engeo2104"
      ]
     },
     "execution_count": 15,
     "metadata": {},
     "output_type": "execute_result"
    }
   ],
   "source": [
    "df = pandas.read_sql_query('select * from gp11.professor', conn)\n",
    "df[:]"
   ]
  },
  {
   "cell_type": "code",
   "execution_count": 12,
   "id": "38ee6ad7",
   "metadata": {},
   "outputs": [],
   "source": [
    "Q5_insert_course_sql = \"\"\"\n",
    "                   insert into gp11.course(c_number,c_name,c_room,p_email)\n",
    "                   values('{}','{}','{}','{}')\n",
    "                \"\"\".format ('ia_new','new_c_name','online','marrinsp@jmu.edu')"
   ]
  },
  {
   "cell_type": "code",
   "execution_count": 13,
   "id": "8629a487",
   "metadata": {},
   "outputs": [],
   "source": [
    "cur.execute(sql_Q5_course)"
   ]
  },
  {
   "cell_type": "code",
   "execution_count": 14,
   "id": "3e115369",
   "metadata": {},
   "outputs": [],
   "source": [
    "conn.commit()"
   ]
  },
  {
   "cell_type": "code",
   "execution_count": 15,
   "id": "6111c403",
   "metadata": {},
   "outputs": [
    {
     "data": {
      "text/html": [
       "<div>\n",
       "<style scoped>\n",
       "    .dataframe tbody tr th:only-of-type {\n",
       "        vertical-align: middle;\n",
       "    }\n",
       "\n",
       "    .dataframe tbody tr th {\n",
       "        vertical-align: top;\n",
       "    }\n",
       "\n",
       "    .dataframe thead th {\n",
       "        text-align: right;\n",
       "    }\n",
       "</style>\n",
       "<table border=\"1\" class=\"dataframe\">\n",
       "  <thead>\n",
       "    <tr style=\"text-align: right;\">\n",
       "      <th></th>\n",
       "      <th>c_number</th>\n",
       "      <th>c_name</th>\n",
       "      <th>c_room</th>\n",
       "      <th>p_email</th>\n",
       "    </tr>\n",
       "  </thead>\n",
       "  <tbody>\n",
       "    <tr>\n",
       "      <th>0</th>\n",
       "      <td>340</td>\n",
       "      <td>IA</td>\n",
       "      <td>336</td>\n",
       "      <td>weixx@dukes.jmu.edu</td>\n",
       "    </tr>\n",
       "    <tr>\n",
       "      <th>1</th>\n",
       "      <td>300</td>\n",
       "      <td>t2</td>\n",
       "      <td>6125</td>\n",
       "      <td>t2@jmu.edu</td>\n",
       "    </tr>\n",
       "    <tr>\n",
       "      <th>2</th>\n",
       "      <td>313</td>\n",
       "      <td>t3</td>\n",
       "      <td>150</td>\n",
       "      <td>t3@jmu.edu</td>\n",
       "    </tr>\n",
       "    <tr>\n",
       "      <th>3</th>\n",
       "      <td>150</td>\n",
       "      <td>t6</td>\n",
       "      <td>cB</td>\n",
       "      <td>t5@jmu.edu</td>\n",
       "    </tr>\n",
       "    <tr>\n",
       "      <th>4</th>\n",
       "      <td>220</td>\n",
       "      <td>t7</td>\n",
       "      <td>cC</td>\n",
       "      <td>t6@jmu.edu</td>\n",
       "    </tr>\n",
       "    <tr>\n",
       "      <th>5</th>\n",
       "      <td>160</td>\n",
       "      <td>t8</td>\n",
       "      <td>cD</td>\n",
       "      <td>t7@jmu.edu</td>\n",
       "    </tr>\n",
       "    <tr>\n",
       "      <th>6</th>\n",
       "      <td>200</td>\n",
       "      <td>t9</td>\n",
       "      <td>cE</td>\n",
       "      <td>t8@jmu.edu</td>\n",
       "    </tr>\n",
       "    <tr>\n",
       "      <th>7</th>\n",
       "      <td>321</td>\n",
       "      <td>t10</td>\n",
       "      <td>cF</td>\n",
       "      <td>t9@jmu.edu</td>\n",
       "    </tr>\n",
       "    <tr>\n",
       "      <th>8</th>\n",
       "      <td>500</td>\n",
       "      <td>Counterfactual Reasoning</td>\n",
       "      <td>IA150</td>\n",
       "      <td>Hendrickson@jmu.edu</td>\n",
       "    </tr>\n",
       "    <tr>\n",
       "      <th>9</th>\n",
       "      <td>110</td>\n",
       "      <td>t4</td>\n",
       "      <td>1204</td>\n",
       "      <td>Hendrickson@jmu.edu</td>\n",
       "    </tr>\n",
       "    <tr>\n",
       "      <th>10</th>\n",
       "      <td>240</td>\n",
       "      <td>t5</td>\n",
       "      <td>cA</td>\n",
       "      <td>Hendrickson@jmu.edu</td>\n",
       "    </tr>\n",
       "    <tr>\n",
       "      <th>11</th>\n",
       "      <td>ia_new</td>\n",
       "      <td>new_c_name</td>\n",
       "      <td>online</td>\n",
       "      <td>marrinsp@jmu.edu</td>\n",
       "    </tr>\n",
       "  </tbody>\n",
       "</table>\n",
       "</div>"
      ],
      "text/plain": [
       "   c_number                    c_name  c_room              p_email\n",
       "0       340                        IA     336  weixx@dukes.jmu.edu\n",
       "1       300                        t2    6125           t2@jmu.edu\n",
       "2       313                        t3     150           t3@jmu.edu\n",
       "3       150                        t6      cB           t5@jmu.edu\n",
       "4       220                        t7      cC           t6@jmu.edu\n",
       "5       160                        t8      cD           t7@jmu.edu\n",
       "6       200                        t9      cE           t8@jmu.edu\n",
       "7       321                       t10      cF           t9@jmu.edu\n",
       "8       500  Counterfactual Reasoning   IA150  Hendrickson@jmu.edu\n",
       "9       110                        t4    1204  Hendrickson@jmu.edu\n",
       "10      240                        t5      cA  Hendrickson@jmu.edu\n",
       "11   ia_new                new_c_name  online     marrinsp@jmu.edu"
      ]
     },
     "execution_count": 15,
     "metadata": {},
     "output_type": "execute_result"
    }
   ],
   "source": [
    "df = pandas.read_sql_query('select * from gp11.course', conn)\n",
    "df[:]"
   ]
  },
  {
   "cell_type": "markdown",
   "id": "20fcbefc",
   "metadata": {},
   "source": [
    "## Q6"
   ]
  },
  {
   "cell_type": "code",
   "execution_count": 36,
   "id": "be25a18a",
   "metadata": {},
   "outputs": [],
   "source": [
    "Q6_update_course_sql = \"\"\"\n",
    "                  update gp11.course\n",
    "                  set p_email= '{}'\n",
    "                  where p_email= '{}'\n",
    "                \"\"\".format('marrinsp@jmu.edu','t9@jmu.edu')"
   ]
  },
  {
   "cell_type": "code",
   "execution_count": 37,
   "id": "b0900592",
   "metadata": {},
   "outputs": [],
   "source": [
    "cur.execute(Q6_update_course_sql)"
   ]
  },
  {
   "cell_type": "code",
   "execution_count": 35,
   "id": "27e99ee0",
   "metadata": {},
   "outputs": [],
   "source": [
    "conn.rollback()"
   ]
  },
  {
   "cell_type": "code",
   "execution_count": 38,
   "id": "263d390c",
   "metadata": {},
   "outputs": [],
   "source": [
    "conn.commit()"
   ]
  },
  {
   "cell_type": "code",
   "execution_count": 39,
   "id": "b005f25a",
   "metadata": {},
   "outputs": [
    {
     "data": {
      "text/html": [
       "<div>\n",
       "<style scoped>\n",
       "    .dataframe tbody tr th:only-of-type {\n",
       "        vertical-align: middle;\n",
       "    }\n",
       "\n",
       "    .dataframe tbody tr th {\n",
       "        vertical-align: top;\n",
       "    }\n",
       "\n",
       "    .dataframe thead th {\n",
       "        text-align: right;\n",
       "    }\n",
       "</style>\n",
       "<table border=\"1\" class=\"dataframe\">\n",
       "  <thead>\n",
       "    <tr style=\"text-align: right;\">\n",
       "      <th></th>\n",
       "      <th>c_number</th>\n",
       "      <th>c_name</th>\n",
       "      <th>c_room</th>\n",
       "      <th>p_email</th>\n",
       "    </tr>\n",
       "  </thead>\n",
       "  <tbody>\n",
       "    <tr>\n",
       "      <th>0</th>\n",
       "      <td>340</td>\n",
       "      <td>IA</td>\n",
       "      <td>336</td>\n",
       "      <td>weixx@dukes.jmu.edu</td>\n",
       "    </tr>\n",
       "    <tr>\n",
       "      <th>1</th>\n",
       "      <td>300</td>\n",
       "      <td>t2</td>\n",
       "      <td>6125</td>\n",
       "      <td>t2@jmu.edu</td>\n",
       "    </tr>\n",
       "    <tr>\n",
       "      <th>2</th>\n",
       "      <td>313</td>\n",
       "      <td>t3</td>\n",
       "      <td>150</td>\n",
       "      <td>t3@jmu.edu</td>\n",
       "    </tr>\n",
       "    <tr>\n",
       "      <th>3</th>\n",
       "      <td>150</td>\n",
       "      <td>t6</td>\n",
       "      <td>cB</td>\n",
       "      <td>t5@jmu.edu</td>\n",
       "    </tr>\n",
       "    <tr>\n",
       "      <th>4</th>\n",
       "      <td>220</td>\n",
       "      <td>t7</td>\n",
       "      <td>cC</td>\n",
       "      <td>t6@jmu.edu</td>\n",
       "    </tr>\n",
       "    <tr>\n",
       "      <th>5</th>\n",
       "      <td>160</td>\n",
       "      <td>t8</td>\n",
       "      <td>cD</td>\n",
       "      <td>t7@jmu.edu</td>\n",
       "    </tr>\n",
       "    <tr>\n",
       "      <th>6</th>\n",
       "      <td>200</td>\n",
       "      <td>t9</td>\n",
       "      <td>cE</td>\n",
       "      <td>t8@jmu.edu</td>\n",
       "    </tr>\n",
       "    <tr>\n",
       "      <th>7</th>\n",
       "      <td>500</td>\n",
       "      <td>Counterfactual Reasoning</td>\n",
       "      <td>IA150</td>\n",
       "      <td>Hendrickson@jmu.edu</td>\n",
       "    </tr>\n",
       "    <tr>\n",
       "      <th>8</th>\n",
       "      <td>110</td>\n",
       "      <td>t4</td>\n",
       "      <td>1204</td>\n",
       "      <td>Hendrickson@jmu.edu</td>\n",
       "    </tr>\n",
       "    <tr>\n",
       "      <th>9</th>\n",
       "      <td>240</td>\n",
       "      <td>t5</td>\n",
       "      <td>cA</td>\n",
       "      <td>Hendrickson@jmu.edu</td>\n",
       "    </tr>\n",
       "    <tr>\n",
       "      <th>10</th>\n",
       "      <td>ia_new</td>\n",
       "      <td>new_c_name</td>\n",
       "      <td>online</td>\n",
       "      <td>marrinsp@jmu.edu</td>\n",
       "    </tr>\n",
       "    <tr>\n",
       "      <th>11</th>\n",
       "      <td>321</td>\n",
       "      <td>t10</td>\n",
       "      <td>cF</td>\n",
       "      <td>marrinsp@jmu.edu</td>\n",
       "    </tr>\n",
       "  </tbody>\n",
       "</table>\n",
       "</div>"
      ],
      "text/plain": [
       "   c_number                    c_name  c_room              p_email\n",
       "0       340                        IA     336  weixx@dukes.jmu.edu\n",
       "1       300                        t2    6125           t2@jmu.edu\n",
       "2       313                        t3     150           t3@jmu.edu\n",
       "3       150                        t6      cB           t5@jmu.edu\n",
       "4       220                        t7      cC           t6@jmu.edu\n",
       "5       160                        t8      cD           t7@jmu.edu\n",
       "6       200                        t9      cE           t8@jmu.edu\n",
       "7       500  Counterfactual Reasoning   IA150  Hendrickson@jmu.edu\n",
       "8       110                        t4    1204  Hendrickson@jmu.edu\n",
       "9       240                        t5      cA  Hendrickson@jmu.edu\n",
       "10   ia_new                new_c_name  online     marrinsp@jmu.edu\n",
       "11      321                       t10      cF     marrinsp@jmu.edu"
      ]
     },
     "execution_count": 39,
     "metadata": {},
     "output_type": "execute_result"
    }
   ],
   "source": [
    "df_student=pandas.read_sql_query('select * from gp11.course',conn)\n",
    "df_student[:]"
   ]
  },
  {
   "cell_type": "code",
   "execution_count": 40,
   "id": "f281a599",
   "metadata": {},
   "outputs": [],
   "source": [
    "sql_Q6_professor = \"\"\"\n",
    "                    delete from gp11.professor\n",
    "                    where p_email = '{}'\n",
    "                \"\"\".format('t9@jmu.edu')"
   ]
  },
  {
   "cell_type": "code",
   "execution_count": 41,
   "id": "e70a695d",
   "metadata": {},
   "outputs": [],
   "source": [
    "cur.execute(sql_Q6_professor)"
   ]
  },
  {
   "cell_type": "code",
   "execution_count": 42,
   "id": "02c7cebd",
   "metadata": {},
   "outputs": [],
   "source": [
    "conn.commit()"
   ]
  },
  {
   "cell_type": "code",
   "execution_count": 43,
   "id": "544af388",
   "metadata": {},
   "outputs": [
    {
     "data": {
      "text/html": [
       "<div>\n",
       "<style scoped>\n",
       "    .dataframe tbody tr th:only-of-type {\n",
       "        vertical-align: middle;\n",
       "    }\n",
       "\n",
       "    .dataframe tbody tr th {\n",
       "        vertical-align: top;\n",
       "    }\n",
       "\n",
       "    .dataframe thead th {\n",
       "        text-align: right;\n",
       "    }\n",
       "</style>\n",
       "<table border=\"1\" class=\"dataframe\">\n",
       "  <thead>\n",
       "    <tr style=\"text-align: right;\">\n",
       "      <th></th>\n",
       "      <th>p_email</th>\n",
       "      <th>p_name</th>\n",
       "      <th>p_office</th>\n",
       "    </tr>\n",
       "  </thead>\n",
       "  <tbody>\n",
       "    <tr>\n",
       "      <th>0</th>\n",
       "      <td>weixx@dukes.jmu.edu</td>\n",
       "      <td>wei</td>\n",
       "      <td>ISAT112</td>\n",
       "    </tr>\n",
       "    <tr>\n",
       "      <th>1</th>\n",
       "      <td>t2@jmu.edu</td>\n",
       "      <td>t2</td>\n",
       "      <td>t2</td>\n",
       "    </tr>\n",
       "    <tr>\n",
       "      <th>2</th>\n",
       "      <td>t3@jmu.edu</td>\n",
       "      <td>t3</td>\n",
       "      <td>t3</td>\n",
       "    </tr>\n",
       "    <tr>\n",
       "      <th>3</th>\n",
       "      <td>t5@jmu.edu</td>\n",
       "      <td>p5</td>\n",
       "      <td>t5</td>\n",
       "    </tr>\n",
       "    <tr>\n",
       "      <th>4</th>\n",
       "      <td>t6@jmu.edu</td>\n",
       "      <td>p6</td>\n",
       "      <td>t6</td>\n",
       "    </tr>\n",
       "    <tr>\n",
       "      <th>5</th>\n",
       "      <td>t7@jmu.edu</td>\n",
       "      <td>p7</td>\n",
       "      <td>t7</td>\n",
       "    </tr>\n",
       "    <tr>\n",
       "      <th>6</th>\n",
       "      <td>t8@jmu.edu</td>\n",
       "      <td>p8</td>\n",
       "      <td>t8</td>\n",
       "    </tr>\n",
       "    <tr>\n",
       "      <th>7</th>\n",
       "      <td>Hendrickson@jmu.edu</td>\n",
       "      <td>Hendrickson</td>\n",
       "      <td>IA1204</td>\n",
       "    </tr>\n",
       "    <tr>\n",
       "      <th>8</th>\n",
       "      <td>marrinsp@jmu.edu</td>\n",
       "      <td>Marrin</td>\n",
       "      <td>Engeo2104</td>\n",
       "    </tr>\n",
       "  </tbody>\n",
       "</table>\n",
       "</div>"
      ],
      "text/plain": [
       "               p_email       p_name   p_office\n",
       "0  weixx@dukes.jmu.edu          wei    ISAT112\n",
       "1           t2@jmu.edu           t2         t2\n",
       "2           t3@jmu.edu           t3         t3\n",
       "3           t5@jmu.edu           p5         t5\n",
       "4           t6@jmu.edu           p6         t6\n",
       "5           t7@jmu.edu           p7         t7\n",
       "6           t8@jmu.edu           p8         t8\n",
       "7  Hendrickson@jmu.edu  Hendrickson     IA1204\n",
       "8     marrinsp@jmu.edu       Marrin  Engeo2104"
      ]
     },
     "execution_count": 43,
     "metadata": {},
     "output_type": "execute_result"
    }
   ],
   "source": [
    "df=pandas.read_sql_query('select * from gp11.professor',conn)\n",
    "df[:]"
   ]
  },
  {
   "cell_type": "markdown",
   "id": "56731c58",
   "metadata": {},
   "source": [
    "## Close Connection"
   ]
  },
  {
   "cell_type": "code",
   "execution_count": 44,
   "id": "4a2e0004",
   "metadata": {},
   "outputs": [],
   "source": [
    "cur.close()"
   ]
  },
  {
   "cell_type": "code",
   "execution_count": 45,
   "id": "aa757156",
   "metadata": {},
   "outputs": [],
   "source": [
    "conn.close()"
   ]
  }
 ],
 "metadata": {
  "kernelspec": {
   "display_name": "conda_python3",
   "language": "python",
   "name": "conda_python3"
  },
  "language_info": {
   "codemirror_mode": {
    "name": "ipython",
    "version": 3
   },
   "file_extension": ".py",
   "mimetype": "text/x-python",
   "name": "python",
   "nbconvert_exporter": "python",
   "pygments_lexer": "ipython3",
   "version": "3.6.13"
  }
 },
 "nbformat": 4,
 "nbformat_minor": 5
}
